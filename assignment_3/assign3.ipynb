{
 "cells": [
  {
   "cell_type": "markdown",
   "metadata": {},
   "source": [
    "# Intelligent Systems Assignment 3\n",
    "\n",
    "## Bayes' net inference\n",
    "\n",
    "**Names:**\n",
    "\n",
    "**IDs:**\n"
   ]
  },
  {
   "cell_type": "code",
   "execution_count": 1,
   "metadata": {
    "collapsed": true
   },
   "outputs": [],
   "source": [
    "class Directions:\n",
    "    NORTH = 'North'\n",
    "    SOUTH = 'South'\n",
    "    EAST = 'East'\n",
    "    WEST = 'West'\n",
    "    STOP = 'Stop'"
   ]
  },
  {
   "cell_type": "code",
   "execution_count": 18,
   "metadata": {
    "collapsed": false
   },
   "outputs": [
    {
     "name": "stdout",
     "output_type": "stream",
     "text": [
      "{(1, 3): 1.0, (2, 1): 1.0, (6, 2): 1.0, (5, 1): 1.0, (2, 5): 1.0, (1, 2): 1.0, (3, 3): 1.0, (6, 3): 1.0, (1, 5): 1.0, (5, 3): 1.0, (4, 1): 1.0, (1, 1): 1.0, (6, 4): 1.0, (3, 2): 1.0, (4, 5): 1.0, (1, 4): 1.0, (2, 3): 1.0, (6, 5): 1.0, (5, 5): 1.0, (3, 5): 1.0, (6, 1): 1.0, (3, 1): 1.0, (4, 3): 1.0, (3, 4): 1.0}\n"
     ]
    }
   ],
   "source": [
    "def get_directions():\n",
    "    return [i for i in dir(Directions()) if not i.startswith('__')]\n",
    "\n",
    "def get_maze():\n",
    "    return {(1, 1): {Directions.WEST, Directions.SOUTH}, (1, 2): {Directions.WEST, Directions.EAST}, \n",
    "            (1, 3): {Directions.WEST}, (1, 4): {Directions.WEST, Directions.EAST},\n",
    "           (1, 5): {Directions.WEST, Directions.NORTH}, (2, 1): {Directions.NORTH, Directions.SOUTH},\n",
    "           (2, 3): {Directions.NORTH, Directions.SOUTH}, (2, 5): {Directions.NORTH, Directions.SOUTH},\n",
    "           (3, 1): {Directions.SOUTH}, (3, 2): {Directions.WEST, Directions.EAST},\n",
    "           (3, 3): {}, (3, 4): {Directions.WEST, Directions.EAST},\n",
    "           (3, 5): {Directions.NORTH}, (4, 1): {Directions.NORTH, Directions.SOUTH},\n",
    "           (4, 3): {Directions.NORTH, Directions.SOUTH}, (4, 5): {Directions.NORTH, Directions.SOUTH},\n",
    "           (5, 1): {Directions.NORTH, Directions.SOUTH}, (5, 3): {Directions.NORTH, Directions.SOUTH},\n",
    "           (5, 5): {Directions.NORTH, Directions.SOUTH}, (6, 1): {Directions.EAST, Directions.SOUTH},\n",
    "           (6, 2): {Directions.WEST, Directions.EAST}, (6, 3): {Directions.EAST},\n",
    "           (6, 4): {Directions.WEST, Directions.EAST}, (6, 5): {Directions.EAST, Directions.NORTH}}\n",
    "\n",
    "def get_uniform():\n",
    "    maze = get_maze()\n",
    "    return {k: 1.0 / len(maze) for k in maze}\n",
    "\n",
    "def P_E_gX(eps, direction, e):\n",
    "    maze = get_maze()\n",
    "    directions = get_directions()\n",
    "    p = {}\n",
    "    for k in maze:\n",
    "        p[k] = 1 - eps if (direction in maze[k]) == e else eps\n",
    "    return p\n",
    "\n",
    "def sum_P(*p):\n",
    "    result = {}\n",
    "    p1 = p[0]\n",
    "    for k in p1:\n",
    "        result[k] = sum([a[k] for a in p])\n",
    "    return result\n",
    "\n",
    "def mult_P(*p):\n",
    "    result = {}\n",
    "    p1 = p[0]\n",
    "    for k in p1:\n",
    "        result[k] = reduce(lambda x,y:x*y, [a[k] for a in p])\n",
    "    return result\n",
    "\n",
    "def normalize(p):\n",
    "    total = float(sum([p[k] for k in p]))\n",
    "    result = {}\n",
    "    for k in p:\n",
    "        result[k] = p[k] / total\n",
    "    return result\n",
    "\n",
    "print(sum_P(P_E_gX(0.3, Directions.EAST, True), P_E_gX(0.3, Directions.EAST, False)))"
   ]
  },
  {
   "cell_type": "markdown",
   "metadata": {},
   "source": [
    "### a. Bayes' net for instant perception and position.\n",
    "\n",
    "Build a Bayes' net that represent the relationships between the random variables. Based on it, write an expression for the joint probability distribution of all the variables.\n",
    "\n",
    "### b. Probability functions calculated from the instant model.\n",
    "\n",
    "Assuming an uniform distribution for the Pacman position probability, write functions to calculate the following probabilities:\n",
    "\n",
    "i. $P(X=x|E_{N}=e_{N},E_{S}=e_{S})$"
   ]
  },
  {
   "cell_type": "code",
   "execution_count": 21,
   "metadata": {
    "collapsed": false
   },
   "outputs": [
    {
     "data": {
      "text/plain": [
       "{(1, 1): 0.016304347826086953,\n",
       " (1, 2): 0.038043478260869554,\n",
       " (1, 3): 0.038043478260869554,\n",
       " (1, 4): 0.038043478260869554,\n",
       " (1, 5): 0.08876811594202895,\n",
       " (2, 1): 0.038043478260869554,\n",
       " (2, 3): 0.038043478260869554,\n",
       " (2, 5): 0.038043478260869554,\n",
       " (3, 1): 0.016304347826086953,\n",
       " (3, 2): 0.038043478260869554,\n",
       " (3, 3): 0.038043478260869554,\n",
       " (3, 4): 0.038043478260869554,\n",
       " (3, 5): 0.08876811594202895,\n",
       " (4, 1): 0.038043478260869554,\n",
       " (4, 3): 0.038043478260869554,\n",
       " (4, 5): 0.038043478260869554,\n",
       " (5, 1): 0.038043478260869554,\n",
       " (5, 3): 0.038043478260869554,\n",
       " (5, 5): 0.038043478260869554,\n",
       " (6, 1): 0.016304347826086953,\n",
       " (6, 2): 0.038043478260869554,\n",
       " (6, 3): 0.038043478260869554,\n",
       " (6, 4): 0.038043478260869554,\n",
       " (6, 5): 0.08876811594202895}"
      ]
     },
     "execution_count": 21,
     "metadata": {},
     "output_type": "execute_result"
    }
   ],
   "source": [
    "def P_1(eps, E_N, E_S):\n",
    "    '''\n",
    "    Calculates: P(X=x|E_{N}=e_{N},E_{S}=e_{S})\n",
    "    Arguments: E_N, E_S \\in {True,False}\n",
    "               0 <= eps <= 1 (epsilon)\n",
    "    Returns: dictionary of type int x int --> float\n",
    "    '''\n",
    "    pd = mult_P(P_E_gX(eps, Directions.NORTH, E_N), P_E_gX(eps, Directions.SOUTH, E_S), get_uniform())\n",
    "    return normalize(pd)\n",
    "\n",
    "P_1(0.3, True, False)"
   ]
  },
  {
   "cell_type": "markdown",
   "metadata": {},
   "source": [
    "ii. $P(E_{E}=e_{E}|E_{N}=e_{N},E_{S}=e_{S})$"
   ]
  },
  {
   "cell_type": "code",
   "execution_count": 28,
   "metadata": {
    "collapsed": false
   },
   "outputs": [
    {
     "data": {
      "text/plain": [
       "{False: 0.5804878048780487, True: 0.4195121951219513}"
      ]
     },
     "execution_count": 28,
     "metadata": {},
     "output_type": "execute_result"
    }
   ],
   "source": [
    "def P_2(eps, E_N, E_S):\n",
    "    '''\n",
    "    Calculates: P(E_{E}=e_{E}|E_{N}=e_{N},E_{S}=E_{S})\n",
    "    Arguments: E_N, E_S \\in {True,False}\n",
    "               0 <= eps <= 1\n",
    "    Returns: dictionary of type (False, True) --> float\n",
    "    '''\n",
    "    tmp = P_1(eps, E_N, E_S)\n",
    "    tmp1 = mult_P(tmp, P_E_gX(eps, Directions.EAST, True))\n",
    "    tmp2 = mult_P(tmp, P_E_gX(eps, Directions.EAST, False))\n",
    "    pd = normalize({True: sum(tmp1.values()), False: sum(tmp2.values())})\n",
    "    return pd\n",
    "\n",
    "P_2(0.2, True, False)"
   ]
  },
  {
   "cell_type": "markdown",
   "metadata": {},
   "source": [
    "iii. $P(S)$, where $S\\subseteq\\{e_{N},e_{S},e_{E},e_{W}\\}$"
   ]
  },
  {
   "cell_type": "code",
   "execution_count": 7,
   "metadata": {
    "collapsed": false
   },
   "outputs": [
    {
     "data": {
      "text/plain": [
       "0"
      ]
     },
     "execution_count": 7,
     "metadata": {},
     "output_type": "execute_result"
    }
   ],
   "source": [
    "def P_3(eps, S):\n",
    "    '''\n",
    "    Calculates: P(S), where S\\subseteq\\{e_{N},e_{S},e_{E},e_{W}\\}\n",
    "    Arguments: S a dictionary with keywords in Directions and values in\n",
    "    {True,False}\n",
    "               0 <= eps <= 1\n",
    "    Returns: float value representing P(S)\n",
    "    '''\n",
    "    return 0\n",
    "\n",
    "P_3(0.3, {Directions.EAST: True, Directions.SOUTH: False})"
   ]
  },
  {
   "cell_type": "markdown",
   "metadata": {},
   "source": [
    "### c. Bayes' net for dynamic perception and position.\n",
    "\n",
    "Now we will consider a scenario where the Pacman moves a finite number of steps $n$. In this case we have $n$\n",
    "different variables for the positions $X_{1},\\dots,X_{n}$, as well as for each one of the perceptions, e.g.\n",
    "$E_{N_{1}},\\dots,E_{N_{n}}$ for the north perception. For the initial Pacman position, assume an uniform \n",
    "distribution among the valid positions. Also assume that at each time step the Pacman choses, to move, one of the valid neighbor positions with uniform probability. Draw the corresponding Bayes' net for $n=4$.\n",
    "\n",
    "### d. Probability functions calculated from the dynamic model.\n",
    "\n",
    "Assuming an uniform distribution for the Pacman position probability, write functions to calculate the following probabilities:\n",
    "\n",
    "i. $P(X_{4}=x_{4}|E_{1}=e_{1},E_{3}=e_{3})$"
   ]
  },
  {
   "cell_type": "code",
   "execution_count": 8,
   "metadata": {
    "collapsed": false
   },
   "outputs": [
    {
     "data": {
      "text/plain": [
       "{(1, 1): 0,\n",
       " (1, 2): 0,\n",
       " (1, 3): 0,\n",
       " (1, 4): 0,\n",
       " (1, 5): 0,\n",
       " (2, 1): 0,\n",
       " (2, 2): 0,\n",
       " (2, 3): 0,\n",
       " (2, 4): 0,\n",
       " (2, 5): 0,\n",
       " (3, 1): 0,\n",
       " (3, 2): 0,\n",
       " (3, 3): 0,\n",
       " (3, 4): 0,\n",
       " (3, 5): 0,\n",
       " (4, 1): 0,\n",
       " (4, 2): 0,\n",
       " (4, 3): 0,\n",
       " (4, 4): 0,\n",
       " (4, 5): 0,\n",
       " (5, 1): 0,\n",
       " (5, 2): 0,\n",
       " (5, 3): 0,\n",
       " (5, 4): 0,\n",
       " (5, 5): 0,\n",
       " (6, 1): 0,\n",
       " (6, 2): 0,\n",
       " (6, 3): 0,\n",
       " (6, 4): 0,\n",
       " (6, 5): 0}"
      ]
     },
     "execution_count": 8,
     "metadata": {},
     "output_type": "execute_result"
    }
   ],
   "source": [
    "def P_4(eps, E_1, E_3):\n",
    "    '''\n",
    "    Calculates: P(X_{4}=x_{4}|E_{1}=e_{1},E_{3}=e_{3})\n",
    "    Arguments: E_1, E_3 dictionaries of type Directions --> {True,False}\n",
    "               0 <= eps <= 1\n",
    "    Returns: dictionary of type int x int --> float\n",
    "    '''\n",
    "    pd = {(x,y):0 for x in range(1,7) for y in range(1,6)}\n",
    "    return pd\n",
    "\n",
    "E_1 = {Directions.NORTH: True, Directions.SOUTH: False, Directions.EAST: True, Directions.WEST: False}\n",
    "E_3 = {Directions.NORTH: True, Directions.SOUTH: True, Directions.EAST: False, Directions.WEST: False}\n",
    "P_4(0.1, E_1, E_3)"
   ]
  },
  {
   "cell_type": "markdown",
   "metadata": {},
   "source": [
    "ii. $P(X_{2}=x_{2}|E_{2}=e_{2},E_{3}=e_{3},E_{4}=e_{4})$"
   ]
  },
  {
   "cell_type": "code",
   "execution_count": 9,
   "metadata": {
    "collapsed": false
   },
   "outputs": [
    {
     "data": {
      "text/plain": [
       "{(1, 1): 0,\n",
       " (1, 2): 0,\n",
       " (1, 3): 0,\n",
       " (1, 4): 0,\n",
       " (1, 5): 0,\n",
       " (2, 1): 0,\n",
       " (2, 2): 0,\n",
       " (2, 3): 0,\n",
       " (2, 4): 0,\n",
       " (2, 5): 0,\n",
       " (3, 1): 0,\n",
       " (3, 2): 0,\n",
       " (3, 3): 0,\n",
       " (3, 4): 0,\n",
       " (3, 5): 0,\n",
       " (4, 1): 0,\n",
       " (4, 2): 0,\n",
       " (4, 3): 0,\n",
       " (4, 4): 0,\n",
       " (4, 5): 0,\n",
       " (5, 1): 0,\n",
       " (5, 2): 0,\n",
       " (5, 3): 0,\n",
       " (5, 4): 0,\n",
       " (5, 5): 0,\n",
       " (6, 1): 0,\n",
       " (6, 2): 0,\n",
       " (6, 3): 0,\n",
       " (6, 4): 0,\n",
       " (6, 5): 0}"
      ]
     },
     "execution_count": 9,
     "metadata": {},
     "output_type": "execute_result"
    }
   ],
   "source": [
    "def P_5(eps, E_2, E_3, E_4):\n",
    "    '''\n",
    "    Calculates: P(X_{2}=x_{2}|E_{2}=e_{2},E_{3}=e_{3},E_{4}=e_{4})\n",
    "    Arguments: E_2, E_3, E_4 dictionaries of type Directions --> {True,False}\n",
    "               0 <= eps <= 1\n",
    "    Returns: dictionary of type int x int --> float\n",
    "    '''\n",
    "    pd = {(x,y):0 for x in range(1,7) for y in range(1,6)}\n",
    "    return pd\n",
    "\n",
    "E_2 = {Directions.NORTH: True, Directions.SOUTH: False, Directions.EAST: True, Directions.WEST: False}\n",
    "E_3 = {Directions.NORTH: True, Directions.SOUTH: True, Directions.EAST: False, Directions.WEST: False}\n",
    "E_4 = {Directions.NORTH: True, Directions.SOUTH: False, Directions.EAST: True, Directions.WEST: False}\n",
    "P_5(0.1, E_2, E_3, E_4)"
   ]
  },
  {
   "cell_type": "markdown",
   "metadata": {},
   "source": [
    "iii. $P(E_{4}=e_{4}|E_{1}=e_{1},E_{2}=e_{2},E_{3}=e_{3})$"
   ]
  },
  {
   "cell_type": "code",
   "execution_count": 10,
   "metadata": {
    "collapsed": false
   },
   "outputs": [
    {
     "data": {
      "text/plain": [
       "{(False, False, False, False): 0,\n",
       " (False, False, False, True): 0,\n",
       " (False, False, True, False): 0,\n",
       " (False, False, True, True): 0,\n",
       " (False, True, False, False): 0,\n",
       " (False, True, False, True): 0,\n",
       " (False, True, True, False): 0,\n",
       " (False, True, True, True): 0,\n",
       " (True, False, False, False): 0,\n",
       " (True, False, False, True): 0,\n",
       " (True, False, True, False): 0,\n",
       " (True, False, True, True): 0,\n",
       " (True, True, False, False): 0,\n",
       " (True, True, False, True): 0,\n",
       " (True, True, True, False): 0,\n",
       " (True, True, True, True): 0}"
      ]
     },
     "execution_count": 10,
     "metadata": {},
     "output_type": "execute_result"
    }
   ],
   "source": [
    "def P_6(eps, E_1, E_2, E_3):\n",
    "    '''\n",
    "    Calculates: P(E_{4}=e_{4}|E_{1}=e_{1},E_{2}=e_{2},E_{3}=e_{3})\n",
    "    Arguments: E_1, E_2, E_3 dictionaries of type Directions --> {True,False}\n",
    "               0 <= eps <= 1\n",
    "    Returns: dictionary of type {False, True}^4 --> float\n",
    "    '''\n",
    "    pd = {(n, s, e, w): 0 for n in [False, True] for s in [False, True] \n",
    "                                 for e in [False, True] for w in [False, True]}\n",
    "    return pd\n",
    "\n",
    "E_1 = {Directions.NORTH: True, Directions.SOUTH: False, Directions.EAST: True, Directions.WEST: False}\n",
    "E_2 = {Directions.NORTH: True, Directions.SOUTH: False, Directions.EAST: True, Directions.WEST: False}\n",
    "E_3 = {Directions.NORTH: True, Directions.SOUTH: True, Directions.EAST: False, Directions.WEST: False}\n",
    "P_6(0.1, E_1, E_2, E_3)"
   ]
  },
  {
   "cell_type": "markdown",
   "metadata": {},
   "source": [
    "iv. $P(E_{E_{2}}=e_{E_{2}}|E_{N_{2}}=e_{N_{2}},E_{S_{2}}=E_{S_{2}})$"
   ]
  },
  {
   "cell_type": "code",
   "execution_count": 11,
   "metadata": {
    "collapsed": false
   },
   "outputs": [
    {
     "data": {
      "text/plain": [
       "{False: 0, True: 0}"
      ]
     },
     "execution_count": 11,
     "metadata": {},
     "output_type": "execute_result"
    }
   ],
   "source": [
    "def P_7(eps, E_N, E_S):\n",
    "    '''\n",
    "    Calculates: P(E_{E_{2}}=e_{E_{2}}|E_{N_{2}}=e_{N_{2}},E_{S_{2}}=E_{S_{2}})\n",
    "    Arguments: E_N_2, E_S_2 \\in {True,False}\n",
    "               0 <= eps <= 1\n",
    "    Returns: dictionary of type (False, True) --> float\n",
    "    '''\n",
    "    pd = {True:0, False:0}\n",
    "    return pd\n",
    "\n",
    "P_7(0.1, True, False)"
   ]
  },
  {
   "cell_type": "markdown",
   "metadata": {},
   "source": [
    "### Test functions\n",
    "\n",
    "You can use the following functions to test your solutions."
   ]
  },
  {
   "cell_type": "code",
   "execution_count": 29,
   "metadata": {
    "collapsed": false
   },
   "outputs": [
    {
     "name": "stdout",
     "output_type": "stream",
     "text": [
      "Test 1 Ok\n",
      "Test 2 Ok\n"
     ]
    }
   ],
   "source": [
    "def approx_equal(val1, val2):\n",
    "    return abs(val1-val2) <= 0.00001\n",
    "\n",
    "def test_P_1():\n",
    "    pd = P_1(0.0, True, True)\n",
    "    assert approx_equal(pd[(2, 1)], 0.1111111111111111)\n",
    "    assert approx_equal(pd[(3, 1)], 0)\n",
    "    pd = P_1(0.3, True, False)\n",
    "    assert approx_equal(pd[(2, 1)], 0.03804347826086956)\n",
    "    assert approx_equal(pd[(3, 1)], 0.016304347826086956)\n",
    "    print(\"Test 1 Ok\")\n",
    "\n",
    "def test_P_2():\n",
    "    pd = P_2(0.0, True, True)\n",
    "    assert approx_equal(pd[False], 1.0)\n",
    "    pd = P_2(0.3, True, False)\n",
    "    assert approx_equal(pd[False], 0.5514492753623188)\n",
    "    print(\"Test 2 Ok\")\n",
    "\n",
    "def test_P_3():\n",
    "    pd = P_3(0.1, {Directions.EAST: True, Directions.WEST: True})\n",
    "    assert approx_equal(pd, 0.2299999999999999)\n",
    "    pd = P_3(0.1, {Directions.EAST: True})\n",
    "    assert approx_equal(pd, 0.3999999999999999)\n",
    "    pd = P_3(0.2, {Directions.EAST: False, Directions.WEST: True, Directions.SOUTH: True})\n",
    "    assert approx_equal(pd, 0.0980000000000000)\n",
    "\n",
    "def test_P_4():\n",
    "    E_1 = {Directions.NORTH: False, Directions.SOUTH: False, Directions.EAST: True, Directions.WEST: True}\n",
    "    E_3 = {Directions.NORTH: False, Directions.SOUTH: False, Directions.EAST: True, Directions.WEST: True}\n",
    "    pd = P_4(0.0, E_1, E_3)\n",
    "    assert approx_equal(pd[(6, 3)], 0.1842105263157895)\n",
    "    assert approx_equal(pd[(4, 3)], 0.0)\n",
    "    pd = P_4(0.2, E_1, E_3)\n",
    "    assert approx_equal(pd[(6, 3)], 0.17777843398830864)\n",
    "    assert approx_equal(pd[(4, 3)], 0.000578430282649176)\n",
    "    E_1 = {Directions.NORTH: True, Directions.SOUTH: False, Directions.EAST: True, Directions.WEST: False}\n",
    "    E_3 = {Directions.NORTH: False, Directions.SOUTH: False, Directions.EAST: True, Directions.WEST: False}\n",
    "    pd = P_4(0.0, E_1, E_3)\n",
    "    assert approx_equal(pd[(6, 2)], 0.3333333333333333)\n",
    "    assert approx_equal(pd[(4, 3)], 0.0)\n",
    "\n",
    "def test_P_5():\n",
    "    E_2 = {Directions.NORTH: True, Directions.SOUTH: True, Directions.EAST: False, Directions.WEST: False}\n",
    "    E_3 = {Directions.NORTH: True, Directions.SOUTH: False, Directions.EAST: False, Directions.WEST: False}\n",
    "    E_4 = {Directions.NORTH: True, Directions.SOUTH: True, Directions.EAST: False, Directions.WEST: False}\n",
    "    pd = P_5(0, E_2, E_3, E_4)\n",
    "    assert approx_equal(pd[(2, 5)], 0.5)\n",
    "    assert approx_equal(pd[(4, 3)], 0.0)\n",
    "    pd = P_5(0.3, E_2, E_3, E_4)\n",
    "    assert approx_equal(pd[(2, 5)], 0.1739661245168835)\n",
    "    assert approx_equal(pd[(4, 3)], 0.0787991740545979)\n",
    "\n",
    "def test_P_6():\n",
    "    E_1 = {Directions.NORTH: True, Directions.SOUTH: True, Directions.EAST: False, Directions.WEST: False}\n",
    "    E_2 = {Directions.NORTH: True, Directions.SOUTH: True, Directions.EAST: False, Directions.WEST: False}\n",
    "    E_3 = {Directions.NORTH: True, Directions.SOUTH: False, Directions.EAST: True, Directions.WEST: False}\n",
    "    pd = P_6(0.2, E_1, E_2, E_3)\n",
    "    assert approx_equal(pd[(False, False, True, True)], 0.15696739914079486)\n",
    "    assert approx_equal(pd[(True, True, False, False)], 0.20610191744824477)\n",
    "    pd = P_6(0., E_1, E_2, E_3)\n",
    "    assert approx_equal(pd[(False, False, True, True)], 0.5)\n",
    "    assert approx_equal(pd[(False, True, False, False)], 0.0)\n",
    "\n",
    "def test_P_7():\n",
    "    pd = P_7(0.0, True, False)\n",
    "    assert approx_equal(pd[False], 0.7142857142857143)\n",
    "    pd = P_7(0.3, False, False)\n",
    "    assert approx_equal(pd[False], 0.5023529411764706)\n",
    "    \n",
    "test_P_1()\n",
    "test_P_2()"
   ]
  },
  {
   "cell_type": "code",
   "execution_count": null,
   "metadata": {
    "collapsed": true
   },
   "outputs": [],
   "source": []
  }
 ],
 "metadata": {
  "kernelspec": {
   "display_name": "Python 2",
   "language": "python",
   "name": "python2"
  },
  "language_info": {
   "codemirror_mode": {
    "name": "ipython",
    "version": 2
   },
   "file_extension": ".py",
   "mimetype": "text/x-python",
   "name": "python",
   "nbconvert_exporter": "python",
   "pygments_lexer": "ipython2",
   "version": "2.7.13"
  }
 },
 "nbformat": 4,
 "nbformat_minor": 0
}
